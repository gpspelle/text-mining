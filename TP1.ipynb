{
 "cells": [
  {
   "cell_type": "code",
   "execution_count": 2,
   "metadata": {},
   "outputs": [],
   "source": [
    "import os\n",
    "from gensim.models import Word2Vec\n",
    "from gensim.models import FastText"
   ]
  },
  {
   "cell_type": "code",
   "execution_count": 3,
   "metadata": {},
   "outputs": [],
   "source": [
    "model_folder=\"models\"\n",
    "if not os.path.exists(model_folder):\n",
    "    os.makedirs(model_folder)"
   ]
  },
  {
   "cell_type": "code",
   "execution_count": 4,
   "metadata": {},
   "outputs": [],
   "source": [
    "folder = \"TP_ISD2020\"\n",
    "domain = [\"QUAERO_FrenchMed/QUAERO_FrenchMed_traindev.ospl\", \"QUAERO_FrenchPress/QUAERO_FrenchPress_traindev.ospl\"]"
   ]
  },
  {
   "cell_type": "code",
   "execution_count": 5,
   "metadata": {},
   "outputs": [
    {
     "name": "stdout",
     "output_type": "stream",
     "text": [
      " [.] Path to data: TP_ISD2020/QUAERO_FrenchMed/QUAERO_FrenchMed_traindev.ospl\n",
      " [.] Path to data: TP_ISD2020/QUAERO_FrenchPress/QUAERO_FrenchPress_traindev.ospl\n"
     ]
    }
   ],
   "source": [
    "data = dict()\n",
    "\n",
    "for d in domain:\n",
    "    path = os.path.join(folder, d)\n",
    "    data_ = []\n",
    "    print(\" [.] Path to data:\", path)\n",
    "    with open(path, \"r\", encoding='utf-8') as f:\n",
    "        for line in f:\n",
    "            stripped_line = line.strip()\n",
    "            line_list = stripped_line.split()\n",
    "            data_.append(line_list)\n",
    "            \n",
    "    data[d] = data_"
   ]
  },
  {
   "cell_type": "markdown",
   "metadata": {},
   "source": [
    "## Word2Vec Skip-Gram"
   ]
  },
  {
   "cell_type": "code",
   "execution_count": 7,
   "metadata": {},
   "outputs": [],
   "source": [
    "for d in domain:\n",
    "    model = Word2Vec(data[d], min_count=1, sg=1, size=100, window=15)\n",
    "    model.train(data[d], total_examples=model.corpus_count, epochs=model.epochs)\n",
    "    model.save(os.path.join(model_folder, os.path.basename(d)))"
   ]
  },
  {
   "cell_type": "markdown",
   "metadata": {},
   "source": [
    "## Word2Vec Cbow"
   ]
  },
  {
   "cell_type": "code",
   "execution_count": 8,
   "metadata": {},
   "outputs": [],
   "source": [
    "for d in domain:\n",
    "    model = Word2Vec(data[d], min_count=1, sg=0, size=100, window=15)\n",
    "    model.train(data[d], total_examples=model.corpus_count, epochs=model.epochs)\n",
    "    model.save(os.path.join(model_folder, os.path.basename(d)))"
   ]
  },
  {
   "cell_type": "markdown",
   "metadata": {},
   "source": [
    "## FastText Cbow"
   ]
  },
  {
   "cell_type": "code",
   "execution_count": 10,
   "metadata": {},
   "outputs": [],
   "source": [
    "for d in domain:\n",
    "    model = FastText(size=100, window=15, min_count=1)\n",
    "    model.build_vocab(sentences=data[d])\n",
    "    model.train(sentences=data[d], total_examples=len(data[d]), epochs=10)\n",
    "    model.save(os.path.join(model_folder, os.path.basename(d)))"
   ]
  }
 ],
 "metadata": {
  "kernelspec": {
   "display_name": "master",
   "language": "python",
   "name": "master"
  },
  "language_info": {
   "codemirror_mode": {
    "name": "ipython",
    "version": 3
   },
   "file_extension": ".py",
   "mimetype": "text/x-python",
   "name": "python",
   "nbconvert_exporter": "python",
   "pygments_lexer": "ipython3",
   "version": "3.8.3"
  }
 },
 "nbformat": 4,
 "nbformat_minor": 4
}
