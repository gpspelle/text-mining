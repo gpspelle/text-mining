{
 "cells": [
  {
   "cell_type": "markdown",
   "metadata": {},
   "source": [
    "## Imports"
   ]
  },
  {
   "cell_type": "code",
   "execution_count": 1,
   "metadata": {
    "cell_id": "00000-ced24c18-a148-45ad-b70e-0d42da02134f",
    "deepnote_cell_type": "code",
    "deepnote_to_be_reexecuted": false,
    "execution_millis": 798,
    "execution_start": 1612904294883,
    "source_hash": "eba39436",
    "tags": []
   },
   "outputs": [],
   "source": [
    "import numpy as np\n",
    "import matplotlib.pyplot as plt"
   ]
  },
  {
   "cell_type": "markdown",
   "metadata": {},
   "source": [
    "## Auxiliar functions"
   ]
  },
  {
   "cell_type": "code",
   "execution_count": 16,
   "metadata": {
    "cell_id": "00001-2285de89-4c98-4cb5-8ac1-3b3d99626255",
    "deepnote_cell_type": "code",
    "deepnote_to_be_reexecuted": false,
    "execution_millis": 1,
    "execution_start": 1612904296886,
    "source_hash": "11b3a4f0",
    "tags": []
   },
   "outputs": [],
   "source": [
    "def stack(path):\n",
    "    s = []\n",
    "    for l in list(open(path, 'r+', encoding=\"utf-8\")):\n",
    "        if l != '\\n':\n",
    "            temp = np.asarray(l.split())\n",
    "            s.append(temp)\n",
    "            \n",
    "    return np.vstack(s)\n",
    "\n",
    "\n",
    "def plot(sentences, title, a, b):\n",
    "    types = np.unique(sentences[:, -1])\n",
    "    num_types = len(types)\n",
    "    \n",
    "    stats = np.zeros(num_types).astype('int32')\n",
    "    for i in range(num_types):\n",
    "        stats[i] = np.sum(sentences[:, -1] == types[i])\n",
    "        \n",
    "    plt.figure(figsize=(8,6))\n",
    "    plt.bar(types[a:b], stats[a:b], color=(0.2, 0.4, 0.6, 0.6))\n",
    "    plt.title(title)\n",
    "    \n",
    "\n",
    "def get_stats(path, title, a, b):\n",
    "    sentences = stack(path)\n",
    "    words = len(sentences)\n",
    "    plot(sentences, title, a, b)\n",
    "    sentences = np.sum(sentences[:, 0] == '1')\n",
    "    \n",
    "    return words, sentences"
   ]
  },
  {
   "cell_type": "markdown",
   "metadata": {
    "cell_id": "00006-d6fe2136-3cb6-4fda-a56c-bc5d65756a31",
    "deepnote_cell_type": "markdown",
    "tags": []
   },
   "source": [
    "## FrenchPress"
   ]
  },
  {
   "cell_type": "code",
   "execution_count": 17,
   "metadata": {
    "cell_id": "00007-9ce254fa-e372-4dde-8885-fb6f471079d9",
    "deepnote_cell_type": "code",
    "deepnote_to_be_reexecuted": false,
    "execution_millis": 10640,
    "execution_start": 1612871499720,
    "source_hash": "84cfc025",
    "tags": []
   },
   "outputs": [
    {
     "name": "stdout",
     "output_type": "stream",
     "text": [
      "Words: 1156339\n",
      "Sentences: 35723\n"
     ]
    },
    {
     "data": {
      "image/png": "[encoded data removed]",
      "text/plain": [
       "<Figure size 576x432 with 1 Axes>"
      ]
     },
     "metadata": {
      "needs_background": "light"
     },
     "output_type": "display_data"
    }
   ],
   "source": [
    "words, sentences = get_stats(\"data/fra4_ID.train\", \"FrenchPress training set\", 1, 10)\n",
    "print(\"Words:\", words)\n",
    "print(\"Sentences:\", sentences)"
   ]
  },
  {
   "cell_type": "code",
   "execution_count": null,
   "metadata": {
    "cell_id": "00008-d8ee67bb-3b92-4bd3-a3fd-b8ff75418660",
    "deepnote_cell_type": "code",
    "deepnote_to_be_reexecuted": false,
    "execution_millis": 1344,
    "execution_start": 1612884136415,
    "source_hash": "928ce6b2",
    "tags": []
   },
   "outputs": [],
   "source": [
    "words, sentences = get_stats(\"data/fra4_ID.dev\", \"FrenchPress dev set\", 1, 10)\n",
    "print(\"Words:\", words)\n",
    "print(\"Sentences:\", sentences)"
   ]
  },
  {
   "cell_type": "code",
   "execution_count": null,
   "metadata": {
    "cell_id": "00009-874cd72a-3a3b-4a62-bea0-212e3dca71fa",
    "deepnote_cell_type": "code",
    "deepnote_to_be_reexecuted": false,
    "execution_millis": 1296,
    "execution_start": 1612884147553,
    "source_hash": "b380d512",
    "tags": []
   },
   "outputs": [],
   "source": [
    "words, sentences = get_stats(\"data/fra4_ID.test\", \"FrenchPress test set\", 1, 10)\n",
    "print(\"Words:\", words)\n",
    "print(\"Sentences:\", sentences)"
   ]
  },
  {
   "cell_type": "markdown",
   "metadata": {
    "cell_id": "00010-0380d9f2-8304-45c7-8f95-c98a752468a9",
    "deepnote_cell_type": "markdown",
    "tags": []
   },
   "source": [
    "## FrenchMed"
   ]
  },
  {
   "cell_type": "code",
   "execution_count": null,
   "metadata": {
    "cell_id": "00008-74ad1060-3bb9-4a27-b1da-8e1077d6a5ae",
    "deepnote_cell_type": "code",
    "deepnote_to_be_reexecuted": false,
    "execution_millis": 734,
    "execution_start": 1612884229804,
    "source_hash": "e8a9451c",
    "tags": []
   },
   "outputs": [],
   "source": [
    "words, sentences = get_stats(\"data/EMEAtrain_layer1_ID.conll\", \"FrenchMed training set\", 0, 20)\n",
    "print(\"Words:\", words)\n",
    "print(\"Sentences:\", sentences)"
   ]
  },
  {
   "cell_type": "code",
   "execution_count": null,
   "metadata": {
    "cell_id": "00012-aaad5be6-7316-4c5e-95a0-b08887633e7e",
    "deepnote_cell_type": "code",
    "deepnote_to_be_reexecuted": false,
    "execution_millis": 638,
    "execution_start": 1612884234329,
    "source_hash": "e71427e4",
    "tags": []
   },
   "outputs": [],
   "source": [
    "words, sentences = get_stats(\"data/EMEAdev_layer1_ID.conll\", \"FrenchMed dev set\", 0, 19)\n",
    "print(\"Words:\", words)\n",
    "print(\"Sentences:\", sentences)"
   ]
  },
  {
   "cell_type": "code",
   "execution_count": null,
   "metadata": {
    "cell_id": "00013-677c7516-3e3b-4f32-95e0-3ed9346eaeb3",
    "deepnote_cell_type": "code",
    "deepnote_to_be_reexecuted": false,
    "execution_millis": 724,
    "execution_start": 1612884243787,
    "source_hash": "9a04070b",
    "tags": []
   },
   "outputs": [],
   "source": [
    "words, sentences = get_stats(\"data/EMEAtest_layer1_ID.conll\", \"FrenchMed test set\", 0, 20)\n",
    "print(\"Words:\", words)\n",
    "print(\"Sentences:\", sentences)"
   ]
  }
 ],
 "metadata": {
  "deepnote": {},
  "deepnote_execution_queue": [],
  "deepnote_notebook_id": "b4b25441-1537-4ee9-9a46-ab932af088e3",
  "kernelspec": {
   "display_name": "Python 3",
   "language": "python",
   "name": "python3"
  },
  "language_info": {
   "codemirror_mode": {
    "name": "ipython",
    "version": 3
   },
   "file_extension": ".py",
   "mimetype": "text/x-python",
   "name": "python",
   "nbconvert_exporter": "python",
   "pygments_lexer": "ipython3",
   "version": "3.8.3"
  }
 },
 "nbformat": 4,
 "nbformat_minor": 2
}
